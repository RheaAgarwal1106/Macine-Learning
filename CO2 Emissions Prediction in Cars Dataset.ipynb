{
 "cells": [
  {
   "cell_type": "code",
   "execution_count": 194,
   "metadata": {},
   "outputs": [],
   "source": [
    "import pandas as pd\n",
    "import numpy as np\n",
    "import pylab as pl\n",
    "import seaborn as sns\n",
    "from statsmodels.stats.outliers_influence import variance_inflation_factor\n",
    "from sklearn.model_selection import train_test_split \n",
    "from sklearn.linear_model import LinearRegression"
   ]
  },
  {
   "cell_type": "code",
   "execution_count": 195,
   "metadata": {},
   "outputs": [
    {
     "data": {
      "text/html": [
       "<div>\n",
       "<style scoped>\n",
       "    .dataframe tbody tr th:only-of-type {\n",
       "        vertical-align: middle;\n",
       "    }\n",
       "\n",
       "    .dataframe tbody tr th {\n",
       "        vertical-align: top;\n",
       "    }\n",
       "\n",
       "    .dataframe thead th {\n",
       "        text-align: right;\n",
       "    }\n",
       "</style>\n",
       "<table border=\"1\" class=\"dataframe\">\n",
       "  <thead>\n",
       "    <tr style=\"text-align: right;\">\n",
       "      <th></th>\n",
       "      <th>MODEL YEAR</th>\n",
       "      <th>MAKE</th>\n",
       "      <th>MODEL</th>\n",
       "      <th>VEHICLE CLASS</th>\n",
       "      <th>ENGINE SIZE</th>\n",
       "      <th>CYLINDERS</th>\n",
       "      <th>TRANSMISSION</th>\n",
       "      <th>FUEL</th>\n",
       "      <th>FUEL CONSUMPTION_CITY</th>\n",
       "      <th>FUEL_CONSUMPTION_HWY</th>\n",
       "      <th>FUEL CONSUMPTION_COMB</th>\n",
       "      <th>FUEL CONSUMPTION_COMB (MPG)</th>\n",
       "      <th>CO2 EMISSIONS</th>\n",
       "    </tr>\n",
       "  </thead>\n",
       "  <tbody>\n",
       "    <tr>\n",
       "      <th>0</th>\n",
       "      <td>2014</td>\n",
       "      <td>ACURA</td>\n",
       "      <td>ILX</td>\n",
       "      <td>COMPACT</td>\n",
       "      <td>2.0</td>\n",
       "      <td>4</td>\n",
       "      <td>AS5</td>\n",
       "      <td>Z</td>\n",
       "      <td>9.9</td>\n",
       "      <td>6.7</td>\n",
       "      <td>8.5</td>\n",
       "      <td>33</td>\n",
       "      <td>196</td>\n",
       "    </tr>\n",
       "    <tr>\n",
       "      <th>1</th>\n",
       "      <td>2014</td>\n",
       "      <td>ACURA</td>\n",
       "      <td>ILX</td>\n",
       "      <td>COMPACT</td>\n",
       "      <td>2.4</td>\n",
       "      <td>4</td>\n",
       "      <td>M6</td>\n",
       "      <td>Z</td>\n",
       "      <td>11.2</td>\n",
       "      <td>7.7</td>\n",
       "      <td>9.6</td>\n",
       "      <td>29</td>\n",
       "      <td>221</td>\n",
       "    </tr>\n",
       "    <tr>\n",
       "      <th>2</th>\n",
       "      <td>2014</td>\n",
       "      <td>ACURA</td>\n",
       "      <td>ILX HYBRID</td>\n",
       "      <td>COMPACT</td>\n",
       "      <td>1.5</td>\n",
       "      <td>4</td>\n",
       "      <td>AV7</td>\n",
       "      <td>Z</td>\n",
       "      <td>6.0</td>\n",
       "      <td>5.8</td>\n",
       "      <td>5.9</td>\n",
       "      <td>48</td>\n",
       "      <td>136</td>\n",
       "    </tr>\n",
       "    <tr>\n",
       "      <th>3</th>\n",
       "      <td>2014</td>\n",
       "      <td>ACURA</td>\n",
       "      <td>MDX 4WD</td>\n",
       "      <td>SUV - SMALL</td>\n",
       "      <td>3.5</td>\n",
       "      <td>6</td>\n",
       "      <td>AS6</td>\n",
       "      <td>Z</td>\n",
       "      <td>12.7</td>\n",
       "      <td>9.1</td>\n",
       "      <td>11.1</td>\n",
       "      <td>25</td>\n",
       "      <td>255</td>\n",
       "    </tr>\n",
       "    <tr>\n",
       "      <th>4</th>\n",
       "      <td>2014</td>\n",
       "      <td>ACURA</td>\n",
       "      <td>RDX AWD</td>\n",
       "      <td>SUV - SMALL</td>\n",
       "      <td>3.5</td>\n",
       "      <td>6</td>\n",
       "      <td>AS6</td>\n",
       "      <td>Z</td>\n",
       "      <td>12.1</td>\n",
       "      <td>8.7</td>\n",
       "      <td>10.6</td>\n",
       "      <td>27</td>\n",
       "      <td>244</td>\n",
       "    </tr>\n",
       "    <tr>\n",
       "      <th>...</th>\n",
       "      <td>...</td>\n",
       "      <td>...</td>\n",
       "      <td>...</td>\n",
       "      <td>...</td>\n",
       "      <td>...</td>\n",
       "      <td>...</td>\n",
       "      <td>...</td>\n",
       "      <td>...</td>\n",
       "      <td>...</td>\n",
       "      <td>...</td>\n",
       "      <td>...</td>\n",
       "      <td>...</td>\n",
       "      <td>...</td>\n",
       "    </tr>\n",
       "    <tr>\n",
       "      <th>1066</th>\n",
       "      <td>2014</td>\n",
       "      <td>VOLVO</td>\n",
       "      <td>XC60 AWD</td>\n",
       "      <td>SUV - SMALL</td>\n",
       "      <td>3.0</td>\n",
       "      <td>6</td>\n",
       "      <td>AS6</td>\n",
       "      <td>X</td>\n",
       "      <td>13.4</td>\n",
       "      <td>9.8</td>\n",
       "      <td>11.8</td>\n",
       "      <td>24</td>\n",
       "      <td>271</td>\n",
       "    </tr>\n",
       "    <tr>\n",
       "      <th>1067</th>\n",
       "      <td>2014</td>\n",
       "      <td>VOLVO</td>\n",
       "      <td>XC60 AWD</td>\n",
       "      <td>SUV - SMALL</td>\n",
       "      <td>3.2</td>\n",
       "      <td>6</td>\n",
       "      <td>AS6</td>\n",
       "      <td>X</td>\n",
       "      <td>13.2</td>\n",
       "      <td>9.5</td>\n",
       "      <td>11.5</td>\n",
       "      <td>25</td>\n",
       "      <td>264</td>\n",
       "    </tr>\n",
       "    <tr>\n",
       "      <th>1068</th>\n",
       "      <td>2014</td>\n",
       "      <td>VOLVO</td>\n",
       "      <td>XC70 AWD</td>\n",
       "      <td>SUV - SMALL</td>\n",
       "      <td>3.0</td>\n",
       "      <td>6</td>\n",
       "      <td>AS6</td>\n",
       "      <td>X</td>\n",
       "      <td>13.4</td>\n",
       "      <td>9.8</td>\n",
       "      <td>11.8</td>\n",
       "      <td>24</td>\n",
       "      <td>271</td>\n",
       "    </tr>\n",
       "    <tr>\n",
       "      <th>1069</th>\n",
       "      <td>2014</td>\n",
       "      <td>VOLVO</td>\n",
       "      <td>XC70 AWD</td>\n",
       "      <td>SUV - SMALL</td>\n",
       "      <td>3.2</td>\n",
       "      <td>6</td>\n",
       "      <td>AS6</td>\n",
       "      <td>X</td>\n",
       "      <td>12.9</td>\n",
       "      <td>9.3</td>\n",
       "      <td>11.3</td>\n",
       "      <td>25</td>\n",
       "      <td>260</td>\n",
       "    </tr>\n",
       "    <tr>\n",
       "      <th>1070</th>\n",
       "      <td>2014</td>\n",
       "      <td>VOLVO</td>\n",
       "      <td>XC90 AWD</td>\n",
       "      <td>SUV - STANDARD</td>\n",
       "      <td>3.2</td>\n",
       "      <td>6</td>\n",
       "      <td>AS6</td>\n",
       "      <td>X</td>\n",
       "      <td>14.9</td>\n",
       "      <td>10.2</td>\n",
       "      <td>12.8</td>\n",
       "      <td>22</td>\n",
       "      <td>294</td>\n",
       "    </tr>\n",
       "  </tbody>\n",
       "</table>\n",
       "<p>1071 rows × 13 columns</p>\n",
       "</div>"
      ],
      "text/plain": [
       "      MODEL YEAR   MAKE       MODEL   VEHICLE CLASS  ENGINE SIZE  CYLINDERS  \\\n",
       "0           2014  ACURA         ILX         COMPACT          2.0          4   \n",
       "1           2014  ACURA         ILX         COMPACT          2.4          4   \n",
       "2           2014  ACURA  ILX HYBRID         COMPACT          1.5          4   \n",
       "3           2014  ACURA     MDX 4WD     SUV - SMALL          3.5          6   \n",
       "4           2014  ACURA     RDX AWD     SUV - SMALL          3.5          6   \n",
       "...          ...    ...         ...             ...          ...        ...   \n",
       "1066        2014  VOLVO    XC60 AWD     SUV - SMALL          3.0          6   \n",
       "1067        2014  VOLVO    XC60 AWD     SUV - SMALL          3.2          6   \n",
       "1068        2014  VOLVO    XC70 AWD     SUV - SMALL          3.0          6   \n",
       "1069        2014  VOLVO    XC70 AWD     SUV - SMALL          3.2          6   \n",
       "1070        2014  VOLVO    XC90 AWD  SUV - STANDARD          3.2          6   \n",
       "\n",
       "     TRANSMISSION FUEL  FUEL CONSUMPTION_CITY  FUEL_CONSUMPTION_HWY  \\\n",
       "0             AS5    Z                    9.9                   6.7   \n",
       "1              M6    Z                   11.2                   7.7   \n",
       "2             AV7    Z                    6.0                   5.8   \n",
       "3             AS6    Z                   12.7                   9.1   \n",
       "4             AS6    Z                   12.1                   8.7   \n",
       "...           ...  ...                    ...                   ...   \n",
       "1066          AS6    X                   13.4                   9.8   \n",
       "1067          AS6    X                   13.2                   9.5   \n",
       "1068          AS6    X                   13.4                   9.8   \n",
       "1069          AS6    X                   12.9                   9.3   \n",
       "1070          AS6    X                   14.9                  10.2   \n",
       "\n",
       "      FUEL CONSUMPTION_COMB  FUEL CONSUMPTION_COMB (MPG)  CO2 EMISSIONS   \n",
       "0                       8.5                           33             196  \n",
       "1                       9.6                           29             221  \n",
       "2                       5.9                           48             136  \n",
       "3                      11.1                           25             255  \n",
       "4                      10.6                           27             244  \n",
       "...                     ...                          ...             ...  \n",
       "1066                   11.8                           24             271  \n",
       "1067                   11.5                           25             264  \n",
       "1068                   11.8                           24             271  \n",
       "1069                   11.3                           25             260  \n",
       "1070                   12.8                           22             294  \n",
       "\n",
       "[1071 rows x 13 columns]"
      ]
     },
     "execution_count": 195,
     "metadata": {},
     "output_type": "execute_result"
    }
   ],
   "source": [
    "path=\"C:\\IIT BSc. Data Science and Programming\\Python\\MY2014 Fuel Consumption Ratings (5-cycle) (1).csv\" \n",
    "df=pd.read_csv(path,encoding='latin1')\n",
    "df"
   ]
  },
  {
   "cell_type": "code",
   "execution_count": 196,
   "metadata": {},
   "outputs": [
    {
     "data": {
      "text/html": [
       "<div>\n",
       "<style scoped>\n",
       "    .dataframe tbody tr th:only-of-type {\n",
       "        vertical-align: middle;\n",
       "    }\n",
       "\n",
       "    .dataframe tbody tr th {\n",
       "        vertical-align: top;\n",
       "    }\n",
       "\n",
       "    .dataframe thead th {\n",
       "        text-align: right;\n",
       "    }\n",
       "</style>\n",
       "<table border=\"1\" class=\"dataframe\">\n",
       "  <thead>\n",
       "    <tr style=\"text-align: right;\">\n",
       "      <th></th>\n",
       "      <th>MODEL YEAR</th>\n",
       "      <th>ENGINE SIZE</th>\n",
       "      <th>CYLINDERS</th>\n",
       "      <th>FUEL CONSUMPTION_CITY</th>\n",
       "      <th>FUEL_CONSUMPTION_HWY</th>\n",
       "      <th>FUEL CONSUMPTION_COMB</th>\n",
       "      <th>FUEL CONSUMPTION_COMB (MPG)</th>\n",
       "      <th>CO2 EMISSIONS</th>\n",
       "    </tr>\n",
       "  </thead>\n",
       "  <tbody>\n",
       "    <tr>\n",
       "      <th>count</th>\n",
       "      <td>1071.0</td>\n",
       "      <td>1071.000000</td>\n",
       "      <td>1071.000000</td>\n",
       "      <td>1071.000000</td>\n",
       "      <td>1071.000000</td>\n",
       "      <td>1071.000000</td>\n",
       "      <td>1071.000000</td>\n",
       "      <td>1071.000000</td>\n",
       "    </tr>\n",
       "    <tr>\n",
       "      <th>mean</th>\n",
       "      <td>2014.0</td>\n",
       "      <td>3.342577</td>\n",
       "      <td>5.788049</td>\n",
       "      <td>13.285901</td>\n",
       "      <td>9.467694</td>\n",
       "      <td>11.572082</td>\n",
       "      <td>26.464052</td>\n",
       "      <td>256.116713</td>\n",
       "    </tr>\n",
       "    <tr>\n",
       "      <th>std</th>\n",
       "      <td>0.0</td>\n",
       "      <td>1.415778</td>\n",
       "      <td>1.797425</td>\n",
       "      <td>4.106325</td>\n",
       "      <td>2.788940</td>\n",
       "      <td>3.484679</td>\n",
       "      <td>7.473465</td>\n",
       "      <td>63.530627</td>\n",
       "    </tr>\n",
       "    <tr>\n",
       "      <th>min</th>\n",
       "      <td>2014.0</td>\n",
       "      <td>1.000000</td>\n",
       "      <td>3.000000</td>\n",
       "      <td>4.600000</td>\n",
       "      <td>4.900000</td>\n",
       "      <td>4.700000</td>\n",
       "      <td>11.000000</td>\n",
       "      <td>108.000000</td>\n",
       "    </tr>\n",
       "    <tr>\n",
       "      <th>25%</th>\n",
       "      <td>2014.0</td>\n",
       "      <td>2.000000</td>\n",
       "      <td>4.000000</td>\n",
       "      <td>10.200000</td>\n",
       "      <td>7.500000</td>\n",
       "      <td>9.000000</td>\n",
       "      <td>21.000000</td>\n",
       "      <td>207.000000</td>\n",
       "    </tr>\n",
       "    <tr>\n",
       "      <th>50%</th>\n",
       "      <td>2014.0</td>\n",
       "      <td>3.400000</td>\n",
       "      <td>6.000000</td>\n",
       "      <td>12.600000</td>\n",
       "      <td>8.800000</td>\n",
       "      <td>10.900000</td>\n",
       "      <td>26.000000</td>\n",
       "      <td>251.000000</td>\n",
       "    </tr>\n",
       "    <tr>\n",
       "      <th>75%</th>\n",
       "      <td>2014.0</td>\n",
       "      <td>4.300000</td>\n",
       "      <td>8.000000</td>\n",
       "      <td>15.600000</td>\n",
       "      <td>10.700000</td>\n",
       "      <td>13.350000</td>\n",
       "      <td>31.000000</td>\n",
       "      <td>294.000000</td>\n",
       "    </tr>\n",
       "    <tr>\n",
       "      <th>max</th>\n",
       "      <td>2014.0</td>\n",
       "      <td>8.400000</td>\n",
       "      <td>12.000000</td>\n",
       "      <td>30.200000</td>\n",
       "      <td>20.500000</td>\n",
       "      <td>25.800000</td>\n",
       "      <td>60.000000</td>\n",
       "      <td>488.000000</td>\n",
       "    </tr>\n",
       "  </tbody>\n",
       "</table>\n",
       "</div>"
      ],
      "text/plain": [
       "       MODEL YEAR  ENGINE SIZE    CYLINDERS  FUEL CONSUMPTION_CITY  \\\n",
       "count      1071.0  1071.000000  1071.000000            1071.000000   \n",
       "mean       2014.0     3.342577     5.788049              13.285901   \n",
       "std           0.0     1.415778     1.797425               4.106325   \n",
       "min        2014.0     1.000000     3.000000               4.600000   \n",
       "25%        2014.0     2.000000     4.000000              10.200000   \n",
       "50%        2014.0     3.400000     6.000000              12.600000   \n",
       "75%        2014.0     4.300000     8.000000              15.600000   \n",
       "max        2014.0     8.400000    12.000000              30.200000   \n",
       "\n",
       "       FUEL_CONSUMPTION_HWY  FUEL CONSUMPTION_COMB  \\\n",
       "count           1071.000000            1071.000000   \n",
       "mean               9.467694              11.572082   \n",
       "std                2.788940               3.484679   \n",
       "min                4.900000               4.700000   \n",
       "25%                7.500000               9.000000   \n",
       "50%                8.800000              10.900000   \n",
       "75%               10.700000              13.350000   \n",
       "max               20.500000              25.800000   \n",
       "\n",
       "       FUEL CONSUMPTION_COMB (MPG)  CO2 EMISSIONS   \n",
       "count                  1071.000000     1071.000000  \n",
       "mean                     26.464052      256.116713  \n",
       "std                       7.473465       63.530627  \n",
       "min                      11.000000      108.000000  \n",
       "25%                      21.000000      207.000000  \n",
       "50%                      26.000000      251.000000  \n",
       "75%                      31.000000      294.000000  \n",
       "max                      60.000000      488.000000  "
      ]
     },
     "execution_count": 196,
     "metadata": {},
     "output_type": "execute_result"
    }
   ],
   "source": [
    "df.describe()"
   ]
  },
  {
   "cell_type": "code",
   "execution_count": 197,
   "metadata": {},
   "outputs": [
    {
     "data": {
      "text/html": [
       "<div>\n",
       "<style scoped>\n",
       "    .dataframe tbody tr th:only-of-type {\n",
       "        vertical-align: middle;\n",
       "    }\n",
       "\n",
       "    .dataframe tbody tr th {\n",
       "        vertical-align: top;\n",
       "    }\n",
       "\n",
       "    .dataframe thead th {\n",
       "        text-align: right;\n",
       "    }\n",
       "</style>\n",
       "<table border=\"1\" class=\"dataframe\">\n",
       "  <thead>\n",
       "    <tr style=\"text-align: right;\">\n",
       "      <th></th>\n",
       "      <th>ENGINE SIZE</th>\n",
       "      <th>CYLINDERS</th>\n",
       "      <th>FUEL CONSUMPTION_COMB</th>\n",
       "      <th>CO2 EMISSIONS</th>\n",
       "    </tr>\n",
       "  </thead>\n",
       "  <tbody>\n",
       "    <tr>\n",
       "      <th>0</th>\n",
       "      <td>2.0</td>\n",
       "      <td>4</td>\n",
       "      <td>8.5</td>\n",
       "      <td>196</td>\n",
       "    </tr>\n",
       "    <tr>\n",
       "      <th>1</th>\n",
       "      <td>2.4</td>\n",
       "      <td>4</td>\n",
       "      <td>9.6</td>\n",
       "      <td>221</td>\n",
       "    </tr>\n",
       "    <tr>\n",
       "      <th>2</th>\n",
       "      <td>1.5</td>\n",
       "      <td>4</td>\n",
       "      <td>5.9</td>\n",
       "      <td>136</td>\n",
       "    </tr>\n",
       "    <tr>\n",
       "      <th>3</th>\n",
       "      <td>3.5</td>\n",
       "      <td>6</td>\n",
       "      <td>11.1</td>\n",
       "      <td>255</td>\n",
       "    </tr>\n",
       "    <tr>\n",
       "      <th>4</th>\n",
       "      <td>3.5</td>\n",
       "      <td>6</td>\n",
       "      <td>10.6</td>\n",
       "      <td>244</td>\n",
       "    </tr>\n",
       "    <tr>\n",
       "      <th>...</th>\n",
       "      <td>...</td>\n",
       "      <td>...</td>\n",
       "      <td>...</td>\n",
       "      <td>...</td>\n",
       "    </tr>\n",
       "    <tr>\n",
       "      <th>1066</th>\n",
       "      <td>3.0</td>\n",
       "      <td>6</td>\n",
       "      <td>11.8</td>\n",
       "      <td>271</td>\n",
       "    </tr>\n",
       "    <tr>\n",
       "      <th>1067</th>\n",
       "      <td>3.2</td>\n",
       "      <td>6</td>\n",
       "      <td>11.5</td>\n",
       "      <td>264</td>\n",
       "    </tr>\n",
       "    <tr>\n",
       "      <th>1068</th>\n",
       "      <td>3.0</td>\n",
       "      <td>6</td>\n",
       "      <td>11.8</td>\n",
       "      <td>271</td>\n",
       "    </tr>\n",
       "    <tr>\n",
       "      <th>1069</th>\n",
       "      <td>3.2</td>\n",
       "      <td>6</td>\n",
       "      <td>11.3</td>\n",
       "      <td>260</td>\n",
       "    </tr>\n",
       "    <tr>\n",
       "      <th>1070</th>\n",
       "      <td>3.2</td>\n",
       "      <td>6</td>\n",
       "      <td>12.8</td>\n",
       "      <td>294</td>\n",
       "    </tr>\n",
       "  </tbody>\n",
       "</table>\n",
       "<p>1071 rows × 4 columns</p>\n",
       "</div>"
      ],
      "text/plain": [
       "      ENGINE SIZE  CYLINDERS  FUEL CONSUMPTION_COMB  CO2 EMISSIONS \n",
       "0             2.0          4                    8.5             196\n",
       "1             2.4          4                    9.6             221\n",
       "2             1.5          4                    5.9             136\n",
       "3             3.5          6                   11.1             255\n",
       "4             3.5          6                   10.6             244\n",
       "...           ...        ...                    ...             ...\n",
       "1066          3.0          6                   11.8             271\n",
       "1067          3.2          6                   11.5             264\n",
       "1068          3.0          6                   11.8             271\n",
       "1069          3.2          6                   11.3             260\n",
       "1070          3.2          6                   12.8             294\n",
       "\n",
       "[1071 rows x 4 columns]"
      ]
     },
     "execution_count": 197,
     "metadata": {},
     "output_type": "execute_result"
    }
   ],
   "source": [
    "cdf=df[['ENGINE SIZE','CYLINDERS','FUEL CONSUMPTION_COMB','CO2 EMISSIONS ']]\n",
    "cdf"
   ]
  },
  {
   "cell_type": "code",
   "execution_count": 198,
   "metadata": {},
   "outputs": [
    {
     "data": {
      "text/plain": [
       "Text(0, 0.5, 'CO2 EMISSIONS ')"
      ]
     },
     "execution_count": 198,
     "metadata": {},
     "output_type": "execute_result"
    },
    {
     "data": {
      "image/png": "[encoded data removed]",
      "text/plain": [
       "<Figure size 432x288 with 1 Axes>"
      ]
     },
     "metadata": {
      "needs_background": "light"
     },
     "output_type": "display_data"
    }
   ],
   "source": [
    "#linear relationship between fuel consumption_comb and CO2 emissions\n",
    "pl.scatter(df['FUEL CONSUMPTION_COMB'],df['CO2 EMISSIONS '])\n",
    "pl.xlabel('FUEL CONSUMPTION_COMB')\n",
    "pl.ylabel('CO2 EMISSIONS ')"
   ]
  },
  {
   "cell_type": "code",
   "execution_count": 199,
   "metadata": {},
   "outputs": [
    {
     "data": {
      "text/plain": [
       "Text(0, 0.5, 'CO2 emissions')"
      ]
     },
     "execution_count": 199,
     "metadata": {},
     "output_type": "execute_result"
    },
    {
     "data": {
      "image/png": "[encoded data removed]",
      "text/plain": [
       "<Figure size 432x288 with 1 Axes>"
      ]
     },
     "metadata": {
      "needs_background": "light"
     },
     "output_type": "display_data"
    }
   ],
   "source": [
    "#linear relation between engine size and CO2 emission\n",
    "pl.scatter(df['ENGINE SIZE'], df['CO2 EMISSIONS '])\n",
    "pl.xlabel('Engine size')\n",
    "pl.ylabel('CO2 emissions')"
   ]
  },
  {
   "cell_type": "code",
   "execution_count": 200,
   "metadata": {},
   "outputs": [
    {
     "data": {
      "text/plain": [
       "Text(0, 0.5, 'CO2 Emissions')"
      ]
     },
     "execution_count": 200,
     "metadata": {},
     "output_type": "execute_result"
    },
    {
     "data": {
      "image/png": "[encoded data removed]",
      "text/plain": [
       "<Figure size 432x288 with 1 Axes>"
      ]
     },
     "metadata": {
      "needs_background": "light"
     },
     "output_type": "display_data"
    }
   ],
   "source": [
    "#linear relationship between cylinder and emission\n",
    "pl.scatter(df['CYLINDERS'], df['CO2 EMISSIONS '])\n",
    "pl.xlabel('Cylinder')\n",
    "pl.ylabel('CO2 Emissions')"
   ]
  },
  {
   "cell_type": "code",
   "execution_count": 201,
   "metadata": {},
   "outputs": [
    {
     "data": {
      "image/png": "[encoded data removed]",
      "text/plain": [
       "<Figure size 432x288 with 4 Axes>"
      ]
     },
     "metadata": {
      "needs_background": "light"
     },
     "output_type": "display_data"
    }
   ],
   "source": [
    "viz= df[['ENGINE SIZE','CYLINDERS','FUEL CONSUMPTION_COMB','CO2 EMISSIONS ']]\n",
    "viz.hist()\n",
    "pl.show()"
   ]
  },
  {
   "cell_type": "code",
   "execution_count": 202,
   "metadata": {},
   "outputs": [
    {
     "data": {
      "text/plain": [
       "<AxesSubplot:>"
      ]
     },
     "execution_count": 202,
     "metadata": {},
     "output_type": "execute_result"
    },
    {
     "data": {
      "image/png": "[encoded data removed]",
      "text/plain": [
       "<Figure size 432x288 with 2 Axes>"
      ]
     },
     "metadata": {
      "needs_background": "light"
     },
     "output_type": "display_data"
    }
   ],
   "source": [
    "sns.heatmap(df.corr(), annot=True, cmap='YlGnBu')"
   ]
  },
  {
   "cell_type": "markdown",
   "metadata": {},
   "source": [
    "# High correlation among variables, let's check through VIF"
   ]
  },
  {
   "cell_type": "code",
   "execution_count": 203,
   "metadata": {},
   "outputs": [
    {
     "data": {
      "text/html": [
       "<div>\n",
       "<style scoped>\n",
       "    .dataframe tbody tr th:only-of-type {\n",
       "        vertical-align: middle;\n",
       "    }\n",
       "\n",
       "    .dataframe tbody tr th {\n",
       "        vertical-align: top;\n",
       "    }\n",
       "\n",
       "    .dataframe thead th {\n",
       "        text-align: right;\n",
       "    }\n",
       "</style>\n",
       "<table border=\"1\" class=\"dataframe\">\n",
       "  <thead>\n",
       "    <tr style=\"text-align: right;\">\n",
       "      <th></th>\n",
       "      <th>independent features</th>\n",
       "      <th>vif scores</th>\n",
       "    </tr>\n",
       "  </thead>\n",
       "  <tbody>\n",
       "    <tr>\n",
       "      <th>0</th>\n",
       "      <td>MODEL YEAR</td>\n",
       "      <td>369.761324</td>\n",
       "    </tr>\n",
       "    <tr>\n",
       "      <th>1</th>\n",
       "      <td>ENGINE SIZE</td>\n",
       "      <td>9.666464</td>\n",
       "    </tr>\n",
       "    <tr>\n",
       "      <th>2</th>\n",
       "      <td>CYLINDERS</td>\n",
       "      <td>8.585969</td>\n",
       "    </tr>\n",
       "    <tr>\n",
       "      <th>3</th>\n",
       "      <td>FUEL CONSUMPTION_CITY</td>\n",
       "      <td>5543.039550</td>\n",
       "    </tr>\n",
       "    <tr>\n",
       "      <th>4</th>\n",
       "      <td>FUEL_CONSUMPTION_HWY</td>\n",
       "      <td>1736.446281</td>\n",
       "    </tr>\n",
       "    <tr>\n",
       "      <th>5</th>\n",
       "      <td>FUEL CONSUMPTION_COMB</td>\n",
       "      <td>13178.181574</td>\n",
       "    </tr>\n",
       "    <tr>\n",
       "      <th>6</th>\n",
       "      <td>FUEL CONSUMPTION_COMB (MPG)</td>\n",
       "      <td>8.299115</td>\n",
       "    </tr>\n",
       "  </tbody>\n",
       "</table>\n",
       "</div>"
      ],
      "text/plain": [
       "          independent features    vif scores\n",
       "0                   MODEL YEAR    369.761324\n",
       "1                  ENGINE SIZE      9.666464\n",
       "2                    CYLINDERS      8.585969\n",
       "3        FUEL CONSUMPTION_CITY   5543.039550\n",
       "4         FUEL_CONSUMPTION_HWY   1736.446281\n",
       "5        FUEL CONSUMPTION_COMB  13178.181574\n",
       "6  FUEL CONSUMPTION_COMB (MPG)      8.299115"
      ]
     },
     "execution_count": 203,
     "metadata": {},
     "output_type": "execute_result"
    }
   ],
   "source": [
    "def vif_scores(df):\n",
    "    df=df.dropna()\n",
    "    df = df._get_numeric_data()\n",
    "    VIF_Scores=pd.DataFrame()\n",
    "    VIF_Scores['independent features']=df.columns\n",
    "    VIF_Scores['vif scores']=[variance_inflation_factor(df.values, i) for i in range(df.shape[1])]\n",
    "    return VIF_Scores\n",
    "df1= df.iloc[:,:-1]\n",
    "vif_scores(df1)"
   ]
  },
  {
   "cell_type": "code",
   "execution_count": 204,
   "metadata": {},
   "outputs": [
    {
     "data": {
      "text/html": [
       "<div>\n",
       "<style scoped>\n",
       "    .dataframe tbody tr th:only-of-type {\n",
       "        vertical-align: middle;\n",
       "    }\n",
       "\n",
       "    .dataframe tbody tr th {\n",
       "        vertical-align: top;\n",
       "    }\n",
       "\n",
       "    .dataframe thead th {\n",
       "        text-align: right;\n",
       "    }\n",
       "</style>\n",
       "<table border=\"1\" class=\"dataframe\">\n",
       "  <thead>\n",
       "    <tr style=\"text-align: right;\">\n",
       "      <th></th>\n",
       "      <th>MODEL YEAR</th>\n",
       "      <th>MAKE</th>\n",
       "      <th>MODEL</th>\n",
       "      <th>VEHICLE CLASS</th>\n",
       "      <th>ENGINE SIZE</th>\n",
       "      <th>CYLINDERS</th>\n",
       "      <th>TRANSMISSION</th>\n",
       "      <th>FUEL</th>\n",
       "      <th>FUEL_CONSUMPTION_HWY</th>\n",
       "      <th>FUEL CONSUMPTION_COMB (MPG)</th>\n",
       "      <th>CO2 EMISSIONS</th>\n",
       "    </tr>\n",
       "  </thead>\n",
       "  <tbody>\n",
       "    <tr>\n",
       "      <th>0</th>\n",
       "      <td>2014</td>\n",
       "      <td>ACURA</td>\n",
       "      <td>ILX</td>\n",
       "      <td>COMPACT</td>\n",
       "      <td>2.0</td>\n",
       "      <td>4</td>\n",
       "      <td>AS5</td>\n",
       "      <td>Z</td>\n",
       "      <td>6.7</td>\n",
       "      <td>33</td>\n",
       "      <td>196</td>\n",
       "    </tr>\n",
       "    <tr>\n",
       "      <th>1</th>\n",
       "      <td>2014</td>\n",
       "      <td>ACURA</td>\n",
       "      <td>ILX</td>\n",
       "      <td>COMPACT</td>\n",
       "      <td>2.4</td>\n",
       "      <td>4</td>\n",
       "      <td>M6</td>\n",
       "      <td>Z</td>\n",
       "      <td>7.7</td>\n",
       "      <td>29</td>\n",
       "      <td>221</td>\n",
       "    </tr>\n",
       "    <tr>\n",
       "      <th>2</th>\n",
       "      <td>2014</td>\n",
       "      <td>ACURA</td>\n",
       "      <td>ILX HYBRID</td>\n",
       "      <td>COMPACT</td>\n",
       "      <td>1.5</td>\n",
       "      <td>4</td>\n",
       "      <td>AV7</td>\n",
       "      <td>Z</td>\n",
       "      <td>5.8</td>\n",
       "      <td>48</td>\n",
       "      <td>136</td>\n",
       "    </tr>\n",
       "    <tr>\n",
       "      <th>3</th>\n",
       "      <td>2014</td>\n",
       "      <td>ACURA</td>\n",
       "      <td>MDX 4WD</td>\n",
       "      <td>SUV - SMALL</td>\n",
       "      <td>3.5</td>\n",
       "      <td>6</td>\n",
       "      <td>AS6</td>\n",
       "      <td>Z</td>\n",
       "      <td>9.1</td>\n",
       "      <td>25</td>\n",
       "      <td>255</td>\n",
       "    </tr>\n",
       "    <tr>\n",
       "      <th>4</th>\n",
       "      <td>2014</td>\n",
       "      <td>ACURA</td>\n",
       "      <td>RDX AWD</td>\n",
       "      <td>SUV - SMALL</td>\n",
       "      <td>3.5</td>\n",
       "      <td>6</td>\n",
       "      <td>AS6</td>\n",
       "      <td>Z</td>\n",
       "      <td>8.7</td>\n",
       "      <td>27</td>\n",
       "      <td>244</td>\n",
       "    </tr>\n",
       "  </tbody>\n",
       "</table>\n",
       "</div>"
      ],
      "text/plain": [
       "   MODEL YEAR   MAKE       MODEL VEHICLE CLASS  ENGINE SIZE  CYLINDERS  \\\n",
       "0        2014  ACURA         ILX       COMPACT          2.0          4   \n",
       "1        2014  ACURA         ILX       COMPACT          2.4          4   \n",
       "2        2014  ACURA  ILX HYBRID       COMPACT          1.5          4   \n",
       "3        2014  ACURA     MDX 4WD   SUV - SMALL          3.5          6   \n",
       "4        2014  ACURA     RDX AWD   SUV - SMALL          3.5          6   \n",
       "\n",
       "  TRANSMISSION FUEL  FUEL_CONSUMPTION_HWY  FUEL CONSUMPTION_COMB (MPG)  \\\n",
       "0          AS5    Z                   6.7                           33   \n",
       "1           M6    Z                   7.7                           29   \n",
       "2          AV7    Z                   5.8                           48   \n",
       "3          AS6    Z                   9.1                           25   \n",
       "4          AS6    Z                   8.7                           27   \n",
       "\n",
       "   CO2 EMISSIONS   \n",
       "0             196  \n",
       "1             221  \n",
       "2             136  \n",
       "3             255  \n",
       "4             244  "
      ]
     },
     "execution_count": 204,
     "metadata": {},
     "output_type": "execute_result"
    }
   ],
   "source": [
    "df=df.drop(['FUEL CONSUMPTION_COMB','FUEL CONSUMPTION_CITY'], axis=1)\n",
    "df.head()"
   ]
  },
  {
   "cell_type": "code",
   "execution_count": 205,
   "metadata": {},
   "outputs": [
    {
     "data": {
      "text/html": [
       "<div>\n",
       "<style scoped>\n",
       "    .dataframe tbody tr th:only-of-type {\n",
       "        vertical-align: middle;\n",
       "    }\n",
       "\n",
       "    .dataframe tbody tr th {\n",
       "        vertical-align: top;\n",
       "    }\n",
       "\n",
       "    .dataframe thead th {\n",
       "        text-align: right;\n",
       "    }\n",
       "</style>\n",
       "<table border=\"1\" class=\"dataframe\">\n",
       "  <thead>\n",
       "    <tr style=\"text-align: right;\">\n",
       "      <th></th>\n",
       "      <th>independent features</th>\n",
       "      <th>vif scores</th>\n",
       "    </tr>\n",
       "  </thead>\n",
       "  <tbody>\n",
       "    <tr>\n",
       "      <th>0</th>\n",
       "      <td>MODEL YEAR</td>\n",
       "      <td>283.739574</td>\n",
       "    </tr>\n",
       "    <tr>\n",
       "      <th>1</th>\n",
       "      <td>ENGINE SIZE</td>\n",
       "      <td>9.665198</td>\n",
       "    </tr>\n",
       "    <tr>\n",
       "      <th>2</th>\n",
       "      <td>CYLINDERS</td>\n",
       "      <td>8.006069</td>\n",
       "    </tr>\n",
       "    <tr>\n",
       "      <th>3</th>\n",
       "      <td>FUEL_CONSUMPTION_HWY</td>\n",
       "      <td>5.215705</td>\n",
       "    </tr>\n",
       "    <tr>\n",
       "      <th>4</th>\n",
       "      <td>FUEL CONSUMPTION_COMB (MPG)</td>\n",
       "      <td>5.950645</td>\n",
       "    </tr>\n",
       "  </tbody>\n",
       "</table>\n",
       "</div>"
      ],
      "text/plain": [
       "          independent features  vif scores\n",
       "0                   MODEL YEAR  283.739574\n",
       "1                  ENGINE SIZE    9.665198\n",
       "2                    CYLINDERS    8.006069\n",
       "3         FUEL_CONSUMPTION_HWY    5.215705\n",
       "4  FUEL CONSUMPTION_COMB (MPG)    5.950645"
      ]
     },
     "execution_count": 205,
     "metadata": {},
     "output_type": "execute_result"
    }
   ],
   "source": [
    "def vif_scores(df):\n",
    "    df=df.dropna()\n",
    "    df = df._get_numeric_data()\n",
    "    VIF_Scores=pd.DataFrame()\n",
    "    VIF_Scores['independent features']=df.columns\n",
    "    VIF_Scores['vif scores']=[variance_inflation_factor(df.values, i) for i in range(df.shape[1])]\n",
    "    return VIF_Scores\n",
    "df1= df.iloc[:,:-1]\n",
    "vif_scores(df1)"
   ]
  },
  {
   "cell_type": "markdown",
   "metadata": {},
   "source": [
    " We realize that FUEL CONSUMPTION_COMB and FUEL CONSUMPTION_CITY have multicollinearity and dropping them and a significant affect on the vif score of others variables."
   ]
  },
  {
   "cell_type": "markdown",
   "metadata": {},
   "source": [
    "MODEL YEAR also has high multicollinearity, but dropping it increases the VIF score of other variables, hence we are leaving for simplicity"
   ]
  },
  {
   "cell_type": "code",
   "execution_count": 206,
   "metadata": {},
   "outputs": [],
   "source": [
    "\n",
    "# Import label encoder\n",
    "from sklearn import preprocessing\n",
    "  \n",
    "# label_encoder object knows how to understand word labels.\n",
    "label_encoder = preprocessing.LabelEncoder()\n",
    "  \n",
    "# Encode labels in column 'MAKE'.\n",
    "df['MAKE']= label_encoder.fit_transform(df['MAKE'])\n",
    "# Encode labels in column 'MODEL'.\n",
    "df['MODEL']= label_encoder.fit_transform(df['MODEL'])\n",
    "# Encode labels in column 'VEHICLE CLASS'.\n",
    "df['VEHICLE CLASS']= label_encoder.fit_transform(df['VEHICLE CLASS'])\n",
    "# Encode labels in column 'TRANSMISSION'.\n",
    "df['TRANSMISSION']= label_encoder.fit_transform(df['TRANSMISSION'])\n",
    "# Encode labels in column 'FUEL'.\n",
    "df['FUEL']= label_encoder.fit_transform(df['FUEL'])\n",
    "# Encode labels in column 'FUEL_CONSUMPTION_HWY'.\n",
    "df['FUEL_CONSUMPTION_HWY']= label_encoder.fit_transform(df['FUEL_CONSUMPTION_HWY'])\n"
   ]
  },
  {
   "cell_type": "code",
   "execution_count": 207,
   "metadata": {},
   "outputs": [
    {
     "name": "stdout",
     "output_type": "stream",
     "text": [
      "number of test samples: (108, 10)\n",
      "number of training samples: (963, 10)\n"
     ]
    }
   ],
   "source": [
    "#modelling\n",
    "from sklearn import linear_model\n",
    "#splitting data into training data and testing data. We will place target data in separate dataframe y\n",
    "y_data= df['CO2 EMISSIONS ']\n",
    "\n",
    "#drop CO2 EMISSIONS data in x data\n",
    "x_data= df.drop('CO2 EMISSIONS ',axis=1)\n",
    "\n",
    "#split data into training and testing data using the funtion train_test_split\n",
    "from sklearn.model_selection import train_test_split \n",
    "\n",
    "x_train, x_test, y_train, y_test = train_test_split(x_data, y_data, test_size=0.10, random_state=1)  #testing set is 10% of total dataset\n",
    "\n",
    "print('number of test samples:', x_test.shape)\n",
    "print('number of training samples:', x_train.shape)"
   ]
  },
  {
   "cell_type": "code",
   "execution_count": 208,
   "metadata": {},
   "outputs": [
    {
     "data": {
      "text/plain": [
       "LinearRegression()"
      ]
     },
     "execution_count": 208,
     "metadata": {},
     "output_type": "execute_result"
    }
   ],
   "source": [
    "#creating the model\n",
    "\n",
    "lre=LinearRegression()\n",
    "\n",
    "#fitting the model\n",
    "lre.fit(x_train, y_train)    "
   ]
  },
  {
   "cell_type": "code",
   "execution_count": 210,
   "metadata": {},
   "outputs": [
    {
     "data": {
      "text/plain": [
       "array([314.52489629, 205.85031344, 240.9849633 , 384.51640904,\n",
       "       287.20433512, 215.71854183, 364.80122702, 310.22404521,\n",
       "       323.95109389, 242.13634214, 339.56802552, 322.07688689,\n",
       "       215.33071135, 273.26533434, 265.25877633, 374.84909649,\n",
       "       283.21033358, 187.20144666, 276.00395594, 228.36169364,\n",
       "       152.0655272 , 202.5252216 , 166.94883624, 334.37233552,\n",
       "       203.23090098, 337.0791715 , 337.69347003, 143.66476055,\n",
       "       204.20236747, 140.50426547, 252.03234995, 259.70746633,\n",
       "       294.16992945, 178.28170772, 358.92882703, 198.00577268,\n",
       "       208.05982714, 312.17510836, 346.80414706, 228.43348244,\n",
       "       218.16608087, 335.12450727, 342.79685783, 191.35979547,\n",
       "       244.25170251, 214.5681838 , 197.60456102, 309.79407338,\n",
       "       257.82118664, 215.07706479, 189.09298979, 213.22901486,\n",
       "       186.77615449, 348.14125672, 372.93779003, 309.80647467,\n",
       "       288.06893706, 207.05809648, 201.32617199, 230.00829504,\n",
       "       195.26072108, 206.8862809 , 220.70235652, 292.36176753,\n",
       "       221.21683426, 229.45465604, 367.48932473, 221.39887559,\n",
       "       307.74296824, 348.69868053, 167.9450996 , 200.40266804,\n",
       "       265.37879496, 347.91582025, 251.02275629, 205.44910178,\n",
       "       232.544894  , 190.26541416, 266.22125364, 219.47464937,\n",
       "       322.29571411, 301.73532321, 193.68721906, 238.55955946,\n",
       "       356.04835326, 347.6852617 , 248.91375575, 193.6160894 ,\n",
       "       282.37485768, 226.82871955, 311.73924044, 221.88461321,\n",
       "       260.9172055 , 219.09563278, 219.84633299, 277.64973449,\n",
       "       185.60569785, 164.1964344 , 252.98831683, 249.92755325,\n",
       "       260.58763393, 176.61282267, 361.23160232, 342.76244577,\n",
       "       232.63009083, 156.68422646, 300.36502243, 212.72768798])"
      ]
     },
     "execution_count": 210,
     "metadata": {},
     "output_type": "execute_result"
    }
   ],
   "source": [
    "#seeing the predictions\n",
    "\n",
    "predictions= lre.predict(x_test)\n",
    "predictions"
   ]
  },
  {
   "cell_type": "code",
   "execution_count": 211,
   "metadata": {},
   "outputs": [
    {
     "data": {
      "text/plain": [
       "165     248\n",
       "345     396\n",
       "639     400\n",
       "592     209\n",
       "828     138\n",
       "       ... \n",
       "847     301\n",
       "715     168\n",
       "905     239\n",
       "235     244\n",
       "1061    232\n",
       "Name: CO2 EMISSIONS , Length: 963, dtype: int64"
      ]
     },
     "execution_count": 211,
     "metadata": {},
     "output_type": "execute_result"
    }
   ],
   "source": [
    "#actual y values\n",
    "\n",
    "y_train"
   ]
  },
  {
   "cell_type": "code",
   "execution_count": 212,
   "metadata": {},
   "outputs": [
    {
     "name": "stderr",
     "output_type": "stream",
     "text": [
      "C:\\Users\\Administrator\\anaconda3\\lib\\site-packages\\seaborn\\_decorators.py:36: FutureWarning: Pass the following variables as keyword args: x, y. From version 0.12, the only valid positional argument will be `data`, and passing other arguments without an explicit keyword will result in an error or misinterpretation.\n",
      "  warnings.warn(\n"
     ]
    },
    {
     "data": {
      "text/plain": [
       "<AxesSubplot:xlabel='CO2 EMISSIONS '>"
      ]
     },
     "execution_count": 212,
     "metadata": {},
     "output_type": "execute_result"
    },
    {
     "data": {
      "image/png": "[encoded data removed]",
      "text/plain": [
       "<Figure size 432x288 with 1 Axes>"
      ]
     },
     "metadata": {
      "needs_background": "light"
     },
     "output_type": "display_data"
    }
   ],
   "source": [
    "sns.regplot(y_test, predictions)"
   ]
  },
  {
   "cell_type": "code",
   "execution_count": 214,
   "metadata": {},
   "outputs": [
    {
     "name": "stdout",
     "output_type": "stream",
     "text": [
      "Accuracy of the model is 90 %\n"
     ]
    }
   ],
   "source": [
    "#determining accuracy of the model\n",
    "\n",
    "accuracy = lre.score(x_test, y_test)\n",
    "accuracy= round(accuracy*100)\n",
    "\n",
    "print('Accuracy of the model is', accuracy,'%')"
   ]
  },
  {
   "cell_type": "code",
   "execution_count": null,
   "metadata": {},
   "outputs": [],
   "source": []
  }
 ],
 "metadata": {
  "kernelspec": {
   "display_name": "Python 3",
   "language": "python",
   "name": "python3"
  },
  "language_info": {
   "codemirror_mode": {
    "name": "ipython",
    "version": 3
   },
   "file_extension": ".py",
   "mimetype": "text/x-python",
   "name": "python",
   "nbconvert_exporter": "python",
   "pygments_lexer": "ipython3",
   "version": "3.8.5"
  }
 },
 "nbformat": 4,
 "nbformat_minor": 4
}
